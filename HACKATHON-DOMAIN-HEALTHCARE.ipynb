{
  "nbformat": 4,
  "nbformat_minor": 0,
  "metadata": {
    "colab": {
      "provenance": [],
      "authorship_tag": "ABX9TyN5yz78Hj0GirdmNJHQ2yLW",
      "include_colab_link": true
    },
    "kernelspec": {
      "name": "python3",
      "display_name": "Python 3"
    },
    "language_info": {
      "name": "python"
    }
  },
  "cells": [
    {
      "cell_type": "markdown",
      "metadata": {
        "id": "view-in-github",
        "colab_type": "text"
      },
      "source": [
        "<a href=\"https://colab.research.google.com/github/2303a51863/HACKATHON/blob/main/HACKATHON-DOMAIN-HEALTHCARE.ipynb\" target=\"_parent\"><img src=\"https://colab.research.google.com/assets/colab-badge.svg\" alt=\"Open In Colab\"/></a>"
      ]
    },
    {
      "cell_type": "markdown",
      "source": [
        "QUESTION:Yes, your current bullet points are generally aligned with the problem statement and the five conclusion questions, but a few can be made *more specific and directly relevant* to the *AYUSH Startup Registration Portal* context. Here's the *refined version, with bullet points only, tailored **specifically to your given domain and problem statement*:\n",
        "\n",
        "---\n",
        "\n",
        "### *1. Key Takeaways*\n",
        "- Developed a centralized, secure, and scalable AYUSH Startup Registration Portal.  \n",
        "- Simplified the end-to-end registration process to improve startup accessibility and compliance.\n",
        "\n",
        "---\n",
        "\n",
        "### *2. Impact and Benefits*\n",
        "- Increased efficiency, transparency, and accountability in the AYUSH startup registration process.  \n",
        "- Enabled faster approvals and reduced manual bottlenecks for new startups.\n",
        "\n",
        "---\n",
        "\n",
        "### *3. Potential Improvements*\n",
        "- Integrate AI-powered form validation and document verification for quicker processing.  \n",
        "- Add multilingual interface and user-specific dashboards for improved accessibility.\n",
        "\n",
        "---\n",
        "\n",
        "### *4. Forward-Thinking Outlook*\n",
        "- Potential to expand into a full-fledged AYUSH innovation and collaboration platform.  \n",
        "- Can serve as a model for digitizing other regulatory processes in the healthcare sector.\n",
        "\n",
        "---\n",
        "\n",
        "### *5. Strong Closing Statement*\n",
        "- The portal is a transformative step toward empowering AYUSH startups and modernizing India's holistic healthcare system.\n",
        "\n",
        "---"
      ],
      "metadata": {
        "id": "XJYx2FLr7Qc8"
      }
    },
    {
      "cell_type": "code",
      "source": [
        "from google.colab import drive\n",
        "drive.mount('/content/drive')"
      ],
      "metadata": {
        "id": "VfxHGJgJ8FzG"
      },
      "execution_count": null,
      "outputs": []
    },
    {
      "cell_type": "markdown",
      "source": [
        "#STATIC CODE FOR HACKATHON"
      ],
      "metadata": {
        "id": "fczQiBU27E1n"
      }
    },
    {
      "cell_type": "code",
      "source": [
        "# ayush_cli_static.py\n",
        "\n",
        "# ------------------- Static Data ------------------- #\n",
        "users = [\n",
        "    {\"id\": 1, \"username\": \"alice\", \"role\": \"customer\"},\n",
        "    {\"id\": 2, \"username\": \"bob\", \"role\": \"official\"},\n",
        "]\n",
        "\n",
        "applications = [\n",
        "    {\"id\": 1, \"user_id\": 1, \"business_name\": \"Herbal Bloom\", \"idea\": \"Natural Ayurveda Skincare\", \"status\": \"submitted\"},\n",
        "]\n",
        "\n",
        "documents = [\n",
        "    {\"id\": 1, \"user_id\": 1, \"filename\": \"business_plan.pdf\", \"version\": 1, \"status\": \"uploaded\"},\n",
        "]\n",
        "\n",
        "tickets = [\n",
        "    {\"id\": 1, \"user_id\": 1, \"message\": \"Need help uploading a file\", \"status\": \"open\"},\n",
        "]\n",
        "\n",
        "# ------------------- Utility Functions ------------------- #\n",
        "def send_notification(message):\n",
        "    print(f\"[NOTIFY] {message}\")\n",
        "\n",
        "# ------------------- Core Features ------------------- #\n",
        "def dashboard(user):\n",
        "    print(f\"\\nWelcome {user['username']} ({user['role']})\")\n",
        "    if user['role'] == 'customer':\n",
        "        customer_dashboard(user)\n",
        "    elif user['role'] == 'official':\n",
        "        official_dashboard(user)\n",
        "\n",
        "def customer_dashboard(user):\n",
        "    print(\"1. View My Application\")\n",
        "    print(\"2. View My Documents\")\n",
        "    print(\"3. View Support Ticket\")\n",
        "    choice = input(\"Choose: \")\n",
        "    if choice == '1':\n",
        "        for app in applications:\n",
        "            if app[\"user_id\"] == user[\"id\"]:\n",
        "                print(f\"\\nApp ID: {app['id']}, Business: {app['business_name']}, Status: {app['status']}\")\n",
        "    elif choice == '2':\n",
        "        for doc in documents:\n",
        "            if doc[\"user_id\"] == user[\"id\"]:\n",
        "                print(f\"\\nDoc: {doc['filename']}, Version: {doc['version']}, Status: {doc['status']}\")\n",
        "    elif choice == '3':\n",
        "        for ticket in tickets:\n",
        "            if ticket[\"user_id\"] == user[\"id\"]:\n",
        "                print(f\"\\nTicket ID: {ticket['id']}, Message: {ticket['message']}, Status: {ticket['status']}\")\n",
        "    else:\n",
        "        print(\"Invalid choice\")\n",
        "\n",
        "def official_dashboard(user):\n",
        "    print(\"1. View All Applications\")\n",
        "    print(\"2. View All Tickets\")\n",
        "    choice = input(\"Choose: \")\n",
        "    if choice == '1':\n",
        "        for app in applications:\n",
        "            user_obj = next((u for u in users if u[\"id\"] == app[\"user_id\"]), {})\n",
        "            print(f\"\\nBusiness: {app['business_name']} by {user_obj.get('username')} - Status: {app['status']}\")\n",
        "    elif choice == '2':\n",
        "        for ticket in tickets:\n",
        "            user_obj = next((u for u in users if u[\"id\"] == ticket[\"user_id\"]), {})\n",
        "            print(f\"\\nTicket from {user_obj.get('username')}: {ticket['message']} - Status: {ticket['status']}\")\n",
        "    else:\n",
        "        print(\"Invalid choice\")\n",
        "\n",
        "# ------------------- Main ------------------- #\n",
        "def main():\n",
        "    print(\"=== AYUSH Static CLI System ===\")\n",
        "    print(\"Login as:\")\n",
        "    for idx, user in enumerate(users):\n",
        "        print(f\"{idx + 1}. {user['username']} ({user['role']})\")\n",
        "\n",
        "    choice = int(input(\"Choose user: \")) - 1\n",
        "    if 0 <= choice < len(users):\n",
        "        dashboard(users[choice])\n",
        "    else:\n",
        "        print(\"Invalid user selected.\")\n",
        "\n",
        "if __name__ == \"__main__\":\n",
        "    main()"
      ],
      "metadata": {
        "colab": {
          "base_uri": "https://localhost:8080/"
        },
        "id": "0PdBHKhI6WRy",
        "outputId": "9dbcbfeb-5cf2-4066-bab9-996f379ecaec"
      },
      "execution_count": 21,
      "outputs": [
        {
          "output_type": "stream",
          "name": "stdout",
          "text": [
            "=== AYUSH Static CLI System ===\n",
            "Login as:\n",
            "1. alice (customer)\n",
            "2. bob (official)\n",
            "Choose user: 1\n",
            "\n",
            "Welcome alice (customer)\n",
            "1. View My Application\n",
            "2. View My Documents\n",
            "3. View Support Ticket\n",
            "Choose: 2\n",
            "\n",
            "Doc: business_plan.pdf, Version: 1, Status: uploaded\n"
          ]
        }
      ]
    }
  ]
}